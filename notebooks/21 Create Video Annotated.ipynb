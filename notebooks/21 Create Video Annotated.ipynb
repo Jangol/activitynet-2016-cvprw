{
 "cells": [
  {
   "cell_type": "code",
   "execution_count": 1,
   "metadata": {
    "collapsed": true
   },
   "outputs": [],
   "source": [
    "! cd .."
   ]
  },
  {
   "cell_type": "code",
   "execution_count": 2,
   "metadata": {
    "collapsed": false
   },
   "outputs": [],
   "source": [
    "from __future__ import absolute_import\n",
    "\n",
    "from src.io import video_to_array"
   ]
  },
  {
   "cell_type": "code",
   "execution_count": 3,
   "metadata": {
    "collapsed": false
   },
   "outputs": [],
   "source": [
    "import cv2\n",
    "\n",
    "capture = cv2.VideoCapture('../data/test/B4qwjeJBk0s.mp4')\n",
    "fourcc = cv2.VideoWriter_fourcc('m', 'p', '4', 'v')\n",
    "frame_size = (int(capture.get(cv2.CAP_PROP_FRAME_WIDTH)), int(capture.get(cv2.CAP_PROP_FRAME_HEIGHT)))\n",
    "writer = cv2.VideoWriter('test.mp4', fourcc, fps=capture.get(cv2.CAP_PROP_FPS), frameSize=frame_size)"
   ]
  },
  {
   "cell_type": "code",
   "execution_count": 4,
   "metadata": {
    "collapsed": false
   },
   "outputs": [],
   "source": [
    "count = 0\n",
    "fps = capture.get(cv2.CAP_PROP_FPS)\n",
    "s = int(42.7*fps)\n",
    "e = int(193.5*fps)\n",
    "text_color = (0,0,255)\n",
    "\n",
    "count = 0\n",
    "while True:\n",
    "    flag, frame = capture.read()\n",
    "    if flag == 0:\n",
    "        break\n",
    "        \n",
    "    if count >= s and count <= e:\n",
    "        cv2.putText(frame, \"0.8689 Longboarding\", (30,frame_size[1]-30), cv2.FONT_HERSHEY_PLAIN, 4.0, text_color, thickness=2,lineType=cv2.LINE_AA)\n",
    "    else:\n",
    "        cv2.putText(frame, \"No Activity\", (30,frame_size[1]-30), cv2.FONT_HERSHEY_PLAIN, 4.0, text_color, thickness=2,lineType=cv2.LINE_AA)\n",
    "    \n",
    "    cv2.putText(frame, 'Time: {:.1f}s'.format(float(count)/fps), (30, 70), cv2.FONT_HERSHEY_PLAIN, 4.0, text_color, thickness=2,lineType=cv2.LINE_AA)\n",
    "    \n",
    "    writer.write(frame)\n",
    "    \n",
    "    count += 1\n",
    "\n",
    "capture.release()\n",
    "writer.release()"
   ]
  },
  {
   "cell_type": "code",
   "execution_count": null,
   "metadata": {
    "collapsed": true
   },
   "outputs": [],
   "source": []
  }
 ],
 "metadata": {
  "kernelspec": {
   "display_name": "Python 2",
   "language": "python",
   "name": "python2"
  },
  "language_info": {
   "codemirror_mode": {
    "name": "ipython",
    "version": 2
   },
   "file_extension": ".py",
   "mimetype": "text/x-python",
   "name": "python",
   "nbconvert_exporter": "python",
   "pygments_lexer": "ipython2",
   "version": "2.7.12"
  }
 },
 "nbformat": 4,
 "nbformat_minor": 0
}
